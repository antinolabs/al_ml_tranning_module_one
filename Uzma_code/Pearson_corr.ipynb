{
 "cells": [
  {
   "cell_type": "code",
   "execution_count": 3,
   "metadata": {},
   "outputs": [],
   "source": [
    "import pandas as pd\n",
    "import scipy.stats as stats"
   ]
  },
  {
   "cell_type": "code",
   "execution_count": 4,
   "metadata": {},
   "outputs": [],
   "source": [
    "data=pd.read_excel('data.xlsx')"
   ]
  },
  {
   "attachments": {},
   "cell_type": "markdown",
   "metadata": {},
   "source": [
    "Invoice ID and Customer ID\n",
    "Invoice ID and Product ID\n",
    "Total and Item Total\n",
    "Quantity and Item Total\n",
    "Item Price and Product ID\n",
    "Item Price and Month\n",
    "Invoice ID and Month\n",
    "Invoice ID and Year"
   ]
  },
  {
   "cell_type": "code",
   "execution_count": 6,
   "metadata": {},
   "outputs": [
    {
     "name": "stdout",
     "output_type": "stream",
     "text": [
      "Correlation Test between 'Invoice ID' and 'Customer ID'\n",
      "Pearson's correlation coefficient: 0.5148011257396317\n",
      "P-Value: 0.0\n",
      "\n"
     ]
    }
   ],
   "source": [
    "# Performing correlation test to check the relation between Total & Total Item\n",
    "\n",
    "invoice_id = data['Invoice ID']\n",
    "customer_id = data['Customer ID']\n",
    "corr, pvalue = stats.pearsonr(invoice_id, customer_id)\n",
    "print(\"Correlation Test between 'Invoice ID' and 'Customer ID'\")\n",
    "print(f\"Pearson's correlation coefficient: {corr}\")\n",
    "print(f\"P-Value: {pvalue}\\n\")"
   ]
  },
  {
   "cell_type": "code",
   "execution_count": 7,
   "metadata": {},
   "outputs": [
    {
     "name": "stdout",
     "output_type": "stream",
     "text": [
      "Correlation Test between 'Invoice ID' and 'Product ID'\n",
      "Pearson's correlation coefficient: 0.24095922725230562\n",
      "P-Value: 0.0\n",
      "\n"
     ]
    }
   ],
   "source": [
    "# Performing correlation test to check the relation between Total & Total Item\n",
    "\n",
    "invoice_id = data['Invoice ID']\n",
    "product_id = data['Product ID']\n",
    "corr, pvalue = stats.pearsonr(invoice_id, product_id)\n",
    "print(\"Correlation Test between 'Invoice ID' and 'Product ID'\")\n",
    "print(f\"Pearson's correlation coefficient: {corr}\")\n",
    "print(f\"P-Value: {pvalue}\\n\")"
   ]
  },
  {
   "cell_type": "code",
   "execution_count": 5,
   "metadata": {},
   "outputs": [
    {
     "name": "stdout",
     "output_type": "stream",
     "text": [
      "Correlation Test between 'Total' and 'Item Total'\n",
      "Pearson's correlation coefficient: 0.3832151524114972\n",
      "P-Value: 0.0\n",
      "\n"
     ]
    }
   ],
   "source": [
    "# Performing correlation test to check the relation between Total & Total Item\n",
    "\n",
    "total = data['Total']\n",
    "item_total = data['Item Total']\n",
    "corr, pvalue = stats.pearsonr(total, item_total)\n",
    "print(\"Correlation Test between 'Total' and 'Item Total'\")\n",
    "print(f\"Pearson's correlation coefficient: {corr}\")\n",
    "print(f\"P-Value: {pvalue}\\n\")"
   ]
  },
  {
   "cell_type": "code",
   "execution_count": 9,
   "metadata": {},
   "outputs": [
    {
     "name": "stdout",
     "output_type": "stream",
     "text": [
      "Correlation Test between 'Quantity' and 'Item Total'\n",
      "Pearson's correlation coefficient: 0.7302266417423025\n",
      "P-Value: 0.0\n",
      "\n"
     ]
    }
   ],
   "source": [
    "# Performing correlation test to check the relation between Total & Total Item\n",
    "\n",
    "quantity = data['Quantity']\n",
    "item_total = data['Item Total']\n",
    "corr, pvalue = stats.pearsonr(quantity, item_total)\n",
    "print(\"Correlation Test between 'Quantity' and 'Item Total'\")\n",
    "print(f\"Pearson's correlation coefficient: {corr}\")\n",
    "print(f\"P-Value: {pvalue}\\n\")"
   ]
  },
  {
   "cell_type": "code",
   "execution_count": 10,
   "metadata": {},
   "outputs": [
    {
     "name": "stdout",
     "output_type": "stream",
     "text": [
      "Correlation Test between 'Item Price' and 'Product ID'\n",
      "Pearson's correlation coefficient: 0.03613951732488665\n",
      "P-Value: 9.110965100692553e-62\n",
      "\n"
     ]
    }
   ],
   "source": [
    "# Performing correlation test to check the relation between Total & Total Item\n",
    "\n",
    "itemprice = data['Item Price']\n",
    "product_id = data['Product ID']\n",
    "corr, pvalue = stats.pearsonr(itemprice, product_id)\n",
    "print(\"Correlation Test between 'Item Price' and 'Product ID'\")\n",
    "print(f\"Pearson's correlation coefficient: {corr}\")\n",
    "print(f\"P-Value: {pvalue}\\n\")"
   ]
  },
  {
   "cell_type": "code",
   "execution_count": 11,
   "metadata": {},
   "outputs": [
    {
     "name": "stdout",
     "output_type": "stream",
     "text": [
      "Correlation Test between 'Item Price' and 'Month'\n",
      "Pearson's correlation coefficient: 0.25784071752884197\n",
      "P-Value: 0.0\n",
      "\n"
     ]
    }
   ],
   "source": [
    "# Performing correlation test to check the relation between Total & Total Item\n",
    "\n",
    "itemprice = data['Item Price']\n",
    "month = data['Month']\n",
    "corr, pvalue = stats.pearsonr(itemprice, month)\n",
    "print(\"Correlation Test between 'Item Price' and 'Month'\")\n",
    "print(f\"Pearson's correlation coefficient: {corr}\")\n",
    "print(f\"P-Value: {pvalue}\\n\")"
   ]
  },
  {
   "cell_type": "code",
   "execution_count": 12,
   "metadata": {},
   "outputs": [
    {
     "name": "stdout",
     "output_type": "stream",
     "text": [
      "Correlation Test between 'Invoice ID' and 'Month'\n",
      "Pearson's correlation coefficient: 0.8633304893463566\n",
      "P-Value: 0.0\n",
      "\n"
     ]
    }
   ],
   "source": [
    "# Performing correlation test to check the relation between Invoice ID & Month\n",
    "\n",
    "invoice_id = data['Invoice ID']\n",
    "month = data['Month']\n",
    "corr, pvalue = stats.pearsonr(invoice_id, month)\n",
    "print(\"Correlation Test between 'Invoice ID' and 'Month'\")\n",
    "print(f\"Pearson's correlation coefficient: {corr}\")\n",
    "print(f\"P-Value: {pvalue}\\n\")"
   ]
  },
  {
   "cell_type": "code",
   "execution_count": 13,
   "metadata": {},
   "outputs": [
    {
     "name": "stdout",
     "output_type": "stream",
     "text": [
      "Correlation Test between 'Invoice ID' and 'Year'\n",
      "Pearson's correlation coefficient: 0.26983465201649354\n",
      "P-Value: 0.0\n",
      "\n"
     ]
    }
   ],
   "source": [
    "# Performing correlation test to check the relation between Invoice ID & Month\n",
    "\n",
    "invoice_id = data['Invoice ID']\n",
    "year = data['Year']\n",
    "corr, pvalue = stats.pearsonr(invoice_id, year)\n",
    "print(\"Correlation Test between 'Invoice ID' and 'Year'\")\n",
    "print(f\"Pearson's correlation coefficient: {corr}\")\n",
    "print(f\"P-Value: {pvalue}\\n\")"
   ]
  },
  {
   "cell_type": "code",
   "execution_count": null,
   "metadata": {},
   "outputs": [],
   "source": []
  }
 ],
 "metadata": {
  "kernelspec": {
   "display_name": "base",
   "language": "python",
   "name": "python3"
  },
  "language_info": {
   "codemirror_mode": {
    "name": "ipython",
    "version": 3
   },
   "file_extension": ".py",
   "mimetype": "text/x-python",
   "name": "python",
   "nbconvert_exporter": "python",
   "pygments_lexer": "ipython3",
   "version": "3.9.13"
  },
  "orig_nbformat": 4
 },
 "nbformat": 4,
 "nbformat_minor": 2
}
