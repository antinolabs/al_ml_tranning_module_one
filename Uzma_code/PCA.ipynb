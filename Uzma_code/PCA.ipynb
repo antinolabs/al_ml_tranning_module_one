{
 "cells": [
  {
   "cell_type": "code",
   "execution_count": 5,
   "metadata": {},
   "outputs": [],
   "source": [
    "import pandas as pd\n",
    "from sklearn.decomposition import PCA\n",
    "from sklearn.preprocessing import StandardScaler"
   ]
  },
  {
   "cell_type": "code",
   "execution_count": 3,
   "metadata": {},
   "outputs": [],
   "source": [
    "data=pd.read_excel('data.xlsx')"
   ]
  },
  {
   "cell_type": "code",
   "execution_count": 7,
   "metadata": {},
   "outputs": [
    {
     "name": "stdout",
     "output_type": "stream",
     "text": [
      "Explained variance ratio of PC1: 0.548\n",
      "Explained variance ratio of PC2: 0.452\n",
      "Transformed data:\n",
      "[[ 0.30854174 -0.35727203]\n",
      " [ 0.13812422 -0.39313731]\n",
      " [ 0.17736862 -0.43238171]\n",
      " ...\n",
      " [-1.58862935  1.33361626]\n",
      " [-2.30661243  2.01721888]\n",
      " [-1.13377318  0.94752102]]\n"
     ]
    }
   ],
   "source": [
    "\n",
    "# Extract the columns for PCA\n",
    "columns = ['Quantity', 'Item Price']\n",
    "X = data[columns]\n",
    "\n",
    "scaler = StandardScaler()\n",
    "scaled_data = scaler.fit_transform(X)\n",
    "\n",
    "pca = PCA(n_components=2)\n",
    "\n",
    "pca.fit(scaled_data)\n",
    "\n",
    "transformed_data = pca.transform(scaled_data)\n",
    "\n",
    "principal_components = pca.components_\n",
    "explained_variance_ratio = pca.explained_variance_ratio_\n",
    "\n",
    "for i, ratio in enumerate(explained_variance_ratio):\n",
    "    print(f\"Explained variance ratio of PC{i+1}: {ratio:.3f}\")\n",
    "\n",
    "print(\"Transformed data:\")\n",
    "print(transformed_data)\n",
    "\n"
   ]
  },
  {
   "cell_type": "code",
   "execution_count": null,
   "metadata": {},
   "outputs": [],
   "source": []
  }
 ],
 "metadata": {
  "kernelspec": {
   "display_name": "base",
   "language": "python",
   "name": "python3"
  },
  "language_info": {
   "codemirror_mode": {
    "name": "ipython",
    "version": 3
   },
   "file_extension": ".py",
   "mimetype": "text/x-python",
   "name": "python",
   "nbconvert_exporter": "python",
   "pygments_lexer": "ipython3",
   "version": "3.9.13"
  },
  "orig_nbformat": 4
 },
 "nbformat": 4,
 "nbformat_minor": 2
}
