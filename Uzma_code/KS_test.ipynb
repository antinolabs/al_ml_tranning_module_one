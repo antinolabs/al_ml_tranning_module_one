{
 "cells": [
  {
   "cell_type": "code",
   "execution_count": 4,
   "metadata": {},
   "outputs": [],
   "source": [
    "import pandas as pd\n",
    "from scipy import stats"
   ]
  },
  {
   "cell_type": "code",
   "execution_count": 2,
   "metadata": {},
   "outputs": [],
   "source": [
    "data=pd.read_excel('data.xlsx')"
   ]
  },
  {
   "cell_type": "code",
   "execution_count": 11,
   "metadata": {},
   "outputs": [
    {
     "name": "stdout",
     "output_type": "stream",
     "text": [
      "KS statistic: 0.9931334673376386\n",
      "P-Value: 0.0\n"
     ]
    }
   ],
   "source": [
    "quantity = data['Quantity']\n",
    "total = data['Total']\n",
    "\n",
    "# Perform the KS test\n",
    "ks_statistic, p_value = stats.ks_2samp(quantity, total)\n",
    "\n",
    "# Print the KS test statistics and p-value\n",
    "print(\"KS statistic:\", ks_statistic)\n",
    "print(\"P-Value:\", p_value)"
   ]
  },
  {
   "cell_type": "code",
   "execution_count": 12,
   "metadata": {},
   "outputs": [
    {
     "name": "stdout",
     "output_type": "stream",
     "text": [
      "KS statistic: 0.9155915434729924\n",
      "P-Value: 0.0\n"
     ]
    }
   ],
   "source": [
    "quantity = data['Quantity']\n",
    "item_total = data['Item Total']\n",
    "\n",
    "# Perform the KS test\n",
    "ks_statistic, p_value = stats.ks_2samp(quantity, item_total)\n",
    "\n",
    "# Print the KS test statistics and p-value\n",
    "print(\"KS statistic:\", ks_statistic)\n",
    "print(\"P-Value:\", p_value)"
   ]
  },
  {
   "cell_type": "code",
   "execution_count": 13,
   "metadata": {},
   "outputs": [
    {
     "name": "stdout",
     "output_type": "stream",
     "text": [
      "KS statistic: 0.8696261660037731\n",
      "P-Value: 0.0\n"
     ]
    }
   ],
   "source": [
    "item_total = data['Item Total']\n",
    "total = data['Total']\n",
    "\n",
    "# Perform the KS test\n",
    "ks_statistic, p_value = stats.ks_2samp(item_total, total)\n",
    "\n",
    "# Print the KS test statistics and p-value\n",
    "print(\"KS statistic:\", ks_statistic)\n",
    "print(\"P-Value:\", p_value)"
   ]
  },
  {
   "cell_type": "code",
   "execution_count": 14,
   "metadata": {},
   "outputs": [
    {
     "name": "stdout",
     "output_type": "stream",
     "text": [
      "KS statistic: 0.9155915434729924\n",
      "P-Value: 0.0\n"
     ]
    }
   ],
   "source": [
    "item_total = data['Item Total']\n",
    "quantity = data['Quantity']\n",
    "\n",
    "# Perform the KS test\n",
    "ks_statistic, p_value = stats.ks_2samp(item_total, quantity)\n",
    "\n",
    "# Print the KS test statistics and p-value\n",
    "print(\"KS statistic:\", ks_statistic)\n",
    "print(\"P-Value:\", p_value)"
   ]
  },
  {
   "cell_type": "code",
   "execution_count": 15,
   "metadata": {},
   "outputs": [
    {
     "name": "stdout",
     "output_type": "stream",
     "text": [
      "KS statistic: 1.0\n",
      "P-Value: 0.0\n"
     ]
    }
   ],
   "source": [
    "item_price = data['Item Price']\n",
    "customer_id = data['Customer ID']\n",
    "\n",
    "# Perform the KS test\n",
    "ks_statistic, p_value = stats.ks_2samp(item_price, customer_id)\n",
    "\n",
    "# Print the KS test statistics and p-value\n",
    "print(\"KS statistic:\", ks_statistic)\n",
    "print(\"P-Value:\", p_value)"
   ]
  },
  {
   "cell_type": "code",
   "execution_count": 6,
   "metadata": {},
   "outputs": [
    {
     "name": "stdout",
     "output_type": "stream",
     "text": [
      "KS statistic: 1.0\n",
      "P-Value: 0.0\n"
     ]
    }
   ],
   "source": [
    "invoice_id = data['Invoice ID']\n",
    "month = data['Month']\n",
    "\n",
    "# Perform the KS test\n",
    "ks_statistic, p_value = stats.ks_2samp(invoice_id, month)\n",
    "\n",
    "# Print the KS test statistics and p-value\n",
    "print(\"KS statistic:\", ks_statistic)\n",
    "print(\"P-Value:\", p_value)"
   ]
  },
  {
   "cell_type": "code",
   "execution_count": 7,
   "metadata": {},
   "outputs": [
    {
     "name": "stdout",
     "output_type": "stream",
     "text": [
      "KS statistic: 1.0\n",
      "P-Value: 0.0\n"
     ]
    }
   ],
   "source": [
    "invoice_id = data['Invoice ID']\n",
    "year = data['Year']\n",
    "\n",
    "# Perform the KS test\n",
    "ks_statistic, p_value = stats.ks_2samp(invoice_id, year)\n",
    "\n",
    "# Print the KS test statistics and p-value\n",
    "print(\"KS statistic:\", ks_statistic)\n",
    "print(\"P-Value:\", p_value)"
   ]
  }
 ],
 "metadata": {
  "kernelspec": {
   "display_name": "base",
   "language": "python",
   "name": "python3"
  },
  "language_info": {
   "codemirror_mode": {
    "name": "ipython",
    "version": 3
   },
   "file_extension": ".py",
   "mimetype": "text/x-python",
   "name": "python",
   "nbconvert_exporter": "python",
   "pygments_lexer": "ipython3",
   "version": "3.9.13"
  },
  "orig_nbformat": 4
 },
 "nbformat": 4,
 "nbformat_minor": 2
}
