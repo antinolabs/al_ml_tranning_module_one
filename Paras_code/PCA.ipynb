{
 "cells": [
  {
   "cell_type": "code",
   "execution_count": 1,
   "id": "a5ee0102",
   "metadata": {},
   "outputs": [],
   "source": [
    "import pandas as pd\n",
    "import numpy as np\n",
    "from sklearn.decomposition import PCA\n",
    "from sklearn.preprocessing import StandardScaler"
   ]
  },
  {
   "cell_type": "code",
   "execution_count": 3,
   "id": "7366abb3",
   "metadata": {},
   "outputs": [
    {
     "name": "stderr",
     "output_type": "stream",
     "text": [
      "C:\\Users\\IT RENTAL\\AppData\\Local\\Temp\\ipykernel_18484\\2779456074.py:1: DtypeWarning: Columns (5,10) have mixed types. Specify dtype option on import or set low_memory=False.\n",
      "  df = pd.read_csv(r'C:\\Users\\IT RENTAL\\Documents\\New folder\\invoice 2023.csv')\n"
     ]
    }
   ],
   "source": [
    "df = pd.read_csv(r'C:\\Users\\IT RENTAL\\Documents\\New folder\\invoice 2023.csv')"
   ]
  },
  {
   "cell_type": "code",
   "execution_count": 4,
   "id": "8e84b654",
   "metadata": {},
   "outputs": [
    {
     "data": {
      "text/html": [
       "<div>\n",
       "<style scoped>\n",
       "    .dataframe tbody tr th:only-of-type {\n",
       "        vertical-align: middle;\n",
       "    }\n",
       "\n",
       "    .dataframe tbody tr th {\n",
       "        vertical-align: top;\n",
       "    }\n",
       "\n",
       "    .dataframe thead th {\n",
       "        text-align: right;\n",
       "    }\n",
       "</style>\n",
       "<table border=\"1\" class=\"dataframe\">\n",
       "  <thead>\n",
       "    <tr style=\"text-align: right;\">\n",
       "      <th></th>\n",
       "      <th>Invoice ID</th>\n",
       "      <th>Invoice Status</th>\n",
       "      <th>Customer ID</th>\n",
       "      <th>Due Date</th>\n",
       "      <th>Total</th>\n",
       "      <th>Last Payment Date</th>\n",
       "      <th>Item Name</th>\n",
       "      <th>Quantity</th>\n",
       "      <th>Item Total</th>\n",
       "      <th>Item Price</th>\n",
       "      <th>Product ID</th>\n",
       "      <th>SKU</th>\n",
       "      <th>Customer Name</th>\n",
       "      <th>Invoice Date</th>\n",
       "      <th>Invoice Number</th>\n",
       "      <th>Account</th>\n",
       "      <th>Item Type</th>\n",
       "      <th>Usage Unit</th>\n",
       "      <th>Invoice Month</th>\n",
       "    </tr>\n",
       "  </thead>\n",
       "  <tbody>\n",
       "    <tr>\n",
       "      <th>0</th>\n",
       "      <td>2.097920e+17</td>\n",
       "      <td>Closed</td>\n",
       "      <td>2.097920e+17</td>\n",
       "      <td>01-01-2023</td>\n",
       "      <td>12394.5</td>\n",
       "      <td>27-01-2023</td>\n",
       "      <td>Tomato Hybrid (Mix of medium, semi ripe 12-16 ...</td>\n",
       "      <td>100.0</td>\n",
       "      <td>1400.0</td>\n",
       "      <td>14.0</td>\n",
       "      <td>2.10E+17</td>\n",
       "      <td>FARMTHFINALCAT107</td>\n",
       "      <td>KINEMATIC FOODTECH PRIVATE LIMITED</td>\n",
       "      <td>01-01-2023</td>\n",
       "      <td>INV-082845</td>\n",
       "      <td>Sales</td>\n",
       "      <td>goods</td>\n",
       "      <td>1 Kg</td>\n",
       "      <td>January</td>\n",
       "    </tr>\n",
       "    <tr>\n",
       "      <th>1</th>\n",
       "      <td>2.097920e+17</td>\n",
       "      <td>Closed</td>\n",
       "      <td>2.097920e+17</td>\n",
       "      <td>01-01-2023</td>\n",
       "      <td>12394.5</td>\n",
       "      <td>27-01-2023</td>\n",
       "      <td>Potato  - (Medium, 17-20 pcs/kg)</td>\n",
       "      <td>50.0</td>\n",
       "      <td>1350.0</td>\n",
       "      <td>27.0</td>\n",
       "      <td>2.10E+17</td>\n",
       "      <td>FARMTHFINALCAT94</td>\n",
       "      <td>KINEMATIC FOODTECH PRIVATE LIMITED</td>\n",
       "      <td>01-01-2023</td>\n",
       "      <td>INV-082845</td>\n",
       "      <td>Sales</td>\n",
       "      <td>goods</td>\n",
       "      <td>1 Kg</td>\n",
       "      <td>January</td>\n",
       "    </tr>\n",
       "    <tr>\n",
       "      <th>2</th>\n",
       "      <td>2.097920e+17</td>\n",
       "      <td>Closed</td>\n",
       "      <td>2.097920e+17</td>\n",
       "      <td>01-01-2023</td>\n",
       "      <td>12394.5</td>\n",
       "      <td>27-01-2023</td>\n",
       "      <td>Onion  - Medium</td>\n",
       "      <td>100.0</td>\n",
       "      <td>2500.0</td>\n",
       "      <td>25.0</td>\n",
       "      <td>2.10E+17</td>\n",
       "      <td>FARMTHFINALCAT82</td>\n",
       "      <td>KINEMATIC FOODTECH PRIVATE LIMITED</td>\n",
       "      <td>01-01-2023</td>\n",
       "      <td>INV-082845</td>\n",
       "      <td>Sales</td>\n",
       "      <td>goods</td>\n",
       "      <td>1 Kg</td>\n",
       "      <td>January</td>\n",
       "    </tr>\n",
       "    <tr>\n",
       "      <th>3</th>\n",
       "      <td>2.097920e+17</td>\n",
       "      <td>Closed</td>\n",
       "      <td>2.097920e+17</td>\n",
       "      <td>01-01-2023</td>\n",
       "      <td>12394.5</td>\n",
       "      <td>27-01-2023</td>\n",
       "      <td>Cucumber Indian (Big, misshapes)</td>\n",
       "      <td>50.0</td>\n",
       "      <td>600.0</td>\n",
       "      <td>12.0</td>\n",
       "      <td>2.10E+17</td>\n",
       "      <td>FARMTHFINALCAT54</td>\n",
       "      <td>KINEMATIC FOODTECH PRIVATE LIMITED</td>\n",
       "      <td>01-01-2023</td>\n",
       "      <td>INV-082845</td>\n",
       "      <td>Sales</td>\n",
       "      <td>goods</td>\n",
       "      <td>1 Kg</td>\n",
       "      <td>January</td>\n",
       "    </tr>\n",
       "    <tr>\n",
       "      <th>4</th>\n",
       "      <td>2.097920e+17</td>\n",
       "      <td>Closed</td>\n",
       "      <td>2.097920e+17</td>\n",
       "      <td>01-01-2023</td>\n",
       "      <td>12394.5</td>\n",
       "      <td>27-01-2023</td>\n",
       "      <td>curry leaves</td>\n",
       "      <td>2.0</td>\n",
       "      <td>150.0</td>\n",
       "      <td>75.0</td>\n",
       "      <td>2.10E+17</td>\n",
       "      <td>FARMTHFINALCAT57</td>\n",
       "      <td>KINEMATIC FOODTECH PRIVATE LIMITED</td>\n",
       "      <td>01-01-2023</td>\n",
       "      <td>INV-082845</td>\n",
       "      <td>Sales</td>\n",
       "      <td>goods</td>\n",
       "      <td>Kg</td>\n",
       "      <td>January</td>\n",
       "    </tr>\n",
       "  </tbody>\n",
       "</table>\n",
       "</div>"
      ],
      "text/plain": [
       "     Invoice ID Invoice Status   Customer ID    Due Date    Total  \\\n",
       "0  2.097920e+17         Closed  2.097920e+17  01-01-2023  12394.5   \n",
       "1  2.097920e+17         Closed  2.097920e+17  01-01-2023  12394.5   \n",
       "2  2.097920e+17         Closed  2.097920e+17  01-01-2023  12394.5   \n",
       "3  2.097920e+17         Closed  2.097920e+17  01-01-2023  12394.5   \n",
       "4  2.097920e+17         Closed  2.097920e+17  01-01-2023  12394.5   \n",
       "\n",
       "  Last Payment Date                                          Item Name  \\\n",
       "0        27-01-2023  Tomato Hybrid (Mix of medium, semi ripe 12-16 ...   \n",
       "1        27-01-2023                   Potato  - (Medium, 17-20 pcs/kg)   \n",
       "2        27-01-2023                                    Onion  - Medium   \n",
       "3        27-01-2023                   Cucumber Indian (Big, misshapes)   \n",
       "4        27-01-2023                                       curry leaves   \n",
       "\n",
       "   Quantity  Item Total  Item Price Product ID                SKU  \\\n",
       "0     100.0      1400.0        14.0   2.10E+17  FARMTHFINALCAT107   \n",
       "1      50.0      1350.0        27.0   2.10E+17   FARMTHFINALCAT94   \n",
       "2     100.0      2500.0        25.0   2.10E+17   FARMTHFINALCAT82   \n",
       "3      50.0       600.0        12.0   2.10E+17   FARMTHFINALCAT54   \n",
       "4       2.0       150.0        75.0   2.10E+17   FARMTHFINALCAT57   \n",
       "\n",
       "                        Customer Name Invoice Date Invoice Number Account  \\\n",
       "0  KINEMATIC FOODTECH PRIVATE LIMITED   01-01-2023     INV-082845   Sales   \n",
       "1  KINEMATIC FOODTECH PRIVATE LIMITED   01-01-2023     INV-082845   Sales   \n",
       "2  KINEMATIC FOODTECH PRIVATE LIMITED   01-01-2023     INV-082845   Sales   \n",
       "3  KINEMATIC FOODTECH PRIVATE LIMITED   01-01-2023     INV-082845   Sales   \n",
       "4  KINEMATIC FOODTECH PRIVATE LIMITED   01-01-2023     INV-082845   Sales   \n",
       "\n",
       "  Item Type Usage Unit Invoice Month  \n",
       "0     goods       1 Kg       January  \n",
       "1     goods       1 Kg       January  \n",
       "2     goods       1 Kg       January  \n",
       "3     goods       1 Kg       January  \n",
       "4     goods         Kg       January  "
      ]
     },
     "execution_count": 4,
     "metadata": {},
     "output_type": "execute_result"
    }
   ],
   "source": [
    "df.head()"
   ]
  },
  {
   "cell_type": "code",
   "execution_count": 13,
   "id": "273bd0cc",
   "metadata": {},
   "outputs": [
    {
     "data": {
      "text/plain": [
       "(693360, 19)"
      ]
     },
     "execution_count": 13,
     "metadata": {},
     "output_type": "execute_result"
    }
   ],
   "source": [
    "df.shape"
   ]
  },
  {
   "cell_type": "code",
   "execution_count": 27,
   "id": "9ed96948",
   "metadata": {},
   "outputs": [
    {
     "name": "stdout",
     "output_type": "stream",
     "text": [
      "Explained variance ratio of PC1: 0.585\n",
      "Explained variance ratio of PC2: 0.338\n",
      "Transformed data:\n",
      "[[ 8.58575435 -0.70708518]\n",
      " [ 5.38844072 -0.26785589]\n",
      " [10.81065338  0.13604171]\n",
      " ...\n",
      " [-0.52744528  1.97368568]\n",
      " [-0.49005776  1.26527477]\n",
      " [-0.46335239  0.75926697]]\n"
     ]
    }
   ],
   "source": [
    "#selecting numerical columns\n",
    "\n",
    "col = ['Quantity','Item Total','Item Price']\n",
    "data = df[col]\n",
    "\n",
    "# Normalize the numerical data\n",
    "\n",
    "scaler = StandardScaler()\n",
    "normalize_df = scaler.fit_transform(data)\n",
    "\n",
    "pca = PCA(n_components=2)\n",
    "pca.fit(normalize_df)\n",
    "\n",
    "#Now we can transform this data to its first 2 principal components.\n",
    "\n",
    "x_pca = pca.transform(normalize_df)\n",
    "\n",
    "principal_components = pca.components_\n",
    "explained_variance_ratio = pca.explained_variance_ratio_\n",
    "\n",
    "for i, ratio in enumerate(explained_variance_ratio):\n",
    "    print(f\"Explained variance ratio of PC{i+1}: {ratio:.3f}\")\n",
    "\n",
    "print(\"Transformed data:\")\n",
    "print(x_pca)"
   ]
  },
  {
   "cell_type": "code",
   "execution_count": 28,
   "id": "d5ca7524",
   "metadata": {},
   "outputs": [
    {
     "data": {
      "text/plain": [
       "(693360, 2)"
      ]
     },
     "execution_count": 28,
     "metadata": {},
     "output_type": "execute_result"
    }
   ],
   "source": [
    "x_pca.shape"
   ]
  },
  {
   "cell_type": "code",
   "execution_count": null,
   "id": "5e086482",
   "metadata": {},
   "outputs": [],
   "source": []
  }
 ],
 "metadata": {
  "kernelspec": {
   "display_name": "Python 3 (ipykernel)",
   "language": "python",
   "name": "python3"
  },
  "language_info": {
   "codemirror_mode": {
    "name": "ipython",
    "version": 3
   },
   "file_extension": ".py",
   "mimetype": "text/x-python",
   "name": "python",
   "nbconvert_exporter": "python",
   "pygments_lexer": "ipython3",
   "version": "3.10.9"
  }
 },
 "nbformat": 4,
 "nbformat_minor": 5
}
